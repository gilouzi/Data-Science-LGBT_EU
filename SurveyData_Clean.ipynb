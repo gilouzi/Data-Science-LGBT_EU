{
 "cells": [
  {
   "cell_type": "code",
   "execution_count": 1,
   "metadata": {},
   "outputs": [
    {
     "name": "stdout",
     "output_type": "stream",
     "text": [
      "Requirement already satisfied: pycountry in d:\\anaconda\\envs\\icd\\lib\\site-packages (19.8.18)\n"
     ]
    },
    {
     "name": "stderr",
     "output_type": "stream",
     "text": [
      "Could not install packages due to an EnvironmentError: [Errno 2] No such file or directory: 'd:\\\\anaconda\\\\envs\\\\icd\\\\lib\\\\site-packages\\\\sphinxcontrib_qthelp-1.0.2.dist-info\\\\METADATA'\n",
      "\n",
      "You are using pip version 10.0.1, however version 19.3.1 is available.\n",
      "You should consider upgrading via the 'python -m pip install --upgrade pip' command.\n"
     ]
    }
   ],
   "source": [
    "!pip install pycountry\n",
    "\n",
    "import pycountry\n",
    "\n",
    "import numpy as np\n",
    "import pandas as pd"
   ]
  },
  {
   "cell_type": "markdown",
   "metadata": {},
   "source": [
    "# Lendo os dados"
   ]
  },
  {
   "cell_type": "code",
   "execution_count": 2,
   "metadata": {},
   "outputs": [],
   "source": [
    "df_DailyLife                    = pd.read_csv('european-union-lgbt-survey-2012/LGBT_Survey_DailyLife.csv')\n",
    "df_RightsAwareness              = pd.read_csv('european-union-lgbt-survey-2012/LGBT_Survey_RightsAwareness.csv')\n",
    "df_Discrimination               = pd.read_csv('european-union-lgbt-survey-2012/LGBT_Survey_Discrimination.csv')\n",
    "df_ViolenceAndHarrassment       = pd.read_csv('european-union-lgbt-survey-2012/LGBT_Survey_ViolenceAndHarassment.csv')\n",
    "df_SubsetSize                   = pd.read_csv('european-union-lgbt-survey-2012/LGBT_Survey_SubsetSize.csv')\n",
    "df_TransgenderSpecificQuestions = pd.read_csv('european-union-lgbt-survey-2012/LGBT_Survey_TransgenderSpecificQuestions.csv')"
   ]
  },
  {
   "cell_type": "markdown",
   "metadata": {},
   "source": [
    "# Limpando os dados\n",
    "\n",
    "- Limpeza retirada do site: https://www.kaggle.com/ruslankl/lgbt-survey-analysis\n",
    "- A limpeza se dará da seguinte forma:\n",
    "    1. Renomearemos a coluna CountryCode para CountryName\n",
    "    2. Adicionamos o ID do país\n",
    "    3. Tirando os espaços desnecessários em notes\n",
    "    4. Substituindo notes que são [1] (not a number) por np.NaN\n",
    "    5. Convertendo os valores de porcentagem para float"
   ]
  },
  {
   "cell_type": "code",
   "execution_count": 3,
   "metadata": {},
   "outputs": [],
   "source": [
    "countries = {}\n",
    "for country in pycountry.countries:\n",
    "    countries[country.name] = country.alpha_2\n",
    "\n",
    "def clean_data(df):\n",
    "    df = df.rename(columns={'CountryCode': 'CountryName'})\n",
    "    codes = [countries.get(country, 'Unknown code') for country in df['CountryName']]\n",
    "    df['CountryID'] = codes\n",
    "    df.loc[df['CountryName'] == 'Czech Republic', 'CountryID'] = 'CZ'\n",
    "    df.loc[df['notes'] == ' [1] ', 'notes'] = '[1]'\n",
    "    df.loc[df['notes'] == '[1]', 'percentage'] = np.NaN\n",
    "    df['percentage'] = df['percentage'].astype('float')\n",
    "    return df"
   ]
  },
  {
   "cell_type": "code",
   "execution_count": 4,
   "metadata": {
    "scrolled": false
   },
   "outputs": [
    {
     "data": {
      "text/html": [
       "<div>\n",
       "<style scoped>\n",
       "    .dataframe tbody tr th:only-of-type {\n",
       "        vertical-align: middle;\n",
       "    }\n",
       "\n",
       "    .dataframe tbody tr th {\n",
       "        vertical-align: top;\n",
       "    }\n",
       "\n",
       "    .dataframe thead th {\n",
       "        text-align: right;\n",
       "    }\n",
       "</style>\n",
       "<table border=\"1\" class=\"dataframe\">\n",
       "  <thead>\n",
       "    <tr style=\"text-align: right;\">\n",
       "      <th></th>\n",
       "      <th>CountryName</th>\n",
       "      <th>subset</th>\n",
       "      <th>question_code</th>\n",
       "      <th>question_label</th>\n",
       "      <th>answer</th>\n",
       "      <th>percentage</th>\n",
       "      <th>notes</th>\n",
       "      <th>CountryID</th>\n",
       "    </tr>\n",
       "  </thead>\n",
       "  <tbody>\n",
       "    <tr>\n",
       "      <th>0</th>\n",
       "      <td>Austria</td>\n",
       "      <td>Lesbian</td>\n",
       "      <td>b1_a</td>\n",
       "      <td>In your opinion, how widespread is offensive l...</td>\n",
       "      <td>Very widespread</td>\n",
       "      <td>8.0</td>\n",
       "      <td>NaN</td>\n",
       "      <td>AT</td>\n",
       "    </tr>\n",
       "    <tr>\n",
       "      <th>1</th>\n",
       "      <td>Austria</td>\n",
       "      <td>Lesbian</td>\n",
       "      <td>b1_a</td>\n",
       "      <td>In your opinion, how widespread is offensive l...</td>\n",
       "      <td>Fairly widespread</td>\n",
       "      <td>34.0</td>\n",
       "      <td>NaN</td>\n",
       "      <td>AT</td>\n",
       "    </tr>\n",
       "    <tr>\n",
       "      <th>2</th>\n",
       "      <td>Austria</td>\n",
       "      <td>Lesbian</td>\n",
       "      <td>b1_a</td>\n",
       "      <td>In your opinion, how widespread is offensive l...</td>\n",
       "      <td>Fairly rare</td>\n",
       "      <td>45.0</td>\n",
       "      <td>NaN</td>\n",
       "      <td>AT</td>\n",
       "    </tr>\n",
       "    <tr>\n",
       "      <th>3</th>\n",
       "      <td>Austria</td>\n",
       "      <td>Lesbian</td>\n",
       "      <td>b1_a</td>\n",
       "      <td>In your opinion, how widespread is offensive l...</td>\n",
       "      <td>Very rare</td>\n",
       "      <td>9.0</td>\n",
       "      <td>NaN</td>\n",
       "      <td>AT</td>\n",
       "    </tr>\n",
       "    <tr>\n",
       "      <th>4</th>\n",
       "      <td>Austria</td>\n",
       "      <td>Lesbian</td>\n",
       "      <td>b1_a</td>\n",
       "      <td>In your opinion, how widespread is offensive l...</td>\n",
       "      <td>Don`t know</td>\n",
       "      <td>4.0</td>\n",
       "      <td>[0]</td>\n",
       "      <td>AT</td>\n",
       "    </tr>\n",
       "  </tbody>\n",
       "</table>\n",
       "</div>"
      ],
      "text/plain": [
       "  CountryName   subset question_code  \\\n",
       "0     Austria  Lesbian          b1_a   \n",
       "1     Austria  Lesbian          b1_a   \n",
       "2     Austria  Lesbian          b1_a   \n",
       "3     Austria  Lesbian          b1_a   \n",
       "4     Austria  Lesbian          b1_a   \n",
       "\n",
       "                                      question_label             answer  \\\n",
       "0  In your opinion, how widespread is offensive l...    Very widespread   \n",
       "1  In your opinion, how widespread is offensive l...  Fairly widespread   \n",
       "2  In your opinion, how widespread is offensive l...        Fairly rare   \n",
       "3  In your opinion, how widespread is offensive l...          Very rare   \n",
       "4  In your opinion, how widespread is offensive l...         Don`t know   \n",
       "\n",
       "   percentage notes CountryID  \n",
       "0         8.0   NaN        AT  \n",
       "1        34.0   NaN        AT  \n",
       "2        45.0   NaN        AT  \n",
       "3         9.0   NaN        AT  \n",
       "4         4.0   [0]        AT  "
      ]
     },
     "execution_count": 4,
     "metadata": {},
     "output_type": "execute_result"
    }
   ],
   "source": [
    "df_DailyLife                    = clean_data(df_DailyLife)\n",
    "df_Discrimination               = clean_data(df_DailyLife)\n",
    "df_RightsAwareness              = clean_data(df_DailyLife)\n",
    "df_TransgenderSpecificQuestions = clean_data(df_DailyLife)\n",
    "df_ViolenceAndHarrassment       = clean_data(df_DailyLife)\n",
    "\n",
    "df_DailyLife.head()"
   ]
  },
  {
   "cell_type": "markdown",
   "metadata": {},
   "source": [
    "### Salvando os dados"
   ]
  },
  {
   "cell_type": "code",
   "execution_count": 5,
   "metadata": {},
   "outputs": [],
   "source": [
    "def save_as_csv(df, filename):\n",
    "    df.to_csv('cleaned-survey-data-2012/' + filename, index=False)\n",
    "    \n",
    "save_as_csv(df_DailyLife, 'DailyLife.csv')\n",
    "save_as_csv(df_Discrimination, 'Discrimination.csv')\n",
    "save_as_csv(df_RightsAwareness, 'RightsAwareness.csv')\n",
    "save_as_csv(df_SubsetSize, 'SubsetSize.csv')\n",
    "save_as_csv(df_TransgenderSpecificQuestions, 'TransgenderSpecificQuestions.csv')\n",
    "save_as_csv(df_ViolenceAndHarrassment, 'ViolenceAndHarrassment.csv')"
   ]
  }
 ],
 "metadata": {
  "kernelspec": {
   "display_name": "Python 3",
   "language": "python",
   "name": "python3"
  },
  "language_info": {
   "codemirror_mode": {
    "name": "ipython",
    "version": 3
   },
   "file_extension": ".py",
   "mimetype": "text/x-python",
   "name": "python",
   "nbconvert_exporter": "python",
   "pygments_lexer": "ipython3",
   "version": "3.7.3"
  }
 },
 "nbformat": 4,
 "nbformat_minor": 2
}
