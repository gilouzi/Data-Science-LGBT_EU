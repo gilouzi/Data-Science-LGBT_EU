{
 "cells": [
  {
   "cell_type": "code",
   "execution_count": 1,
   "metadata": {},
   "outputs": [],
   "source": [
    "import numpy as np\n",
    "import pandas as pd"
   ]
  },
  {
   "cell_type": "markdown",
   "metadata": {},
   "source": [
    "Importando os data frames:"
   ]
  },
  {
   "cell_type": "code",
   "execution_count": 1,
   "metadata": {},
   "outputs": [
    {
     "ename": "NameError",
     "evalue": "name 'pd' is not defined",
     "output_type": "error",
     "traceback": [
      "\u001b[0;31m---------------------------------------------------------------------------\u001b[0m",
      "\u001b[0;31mNameError\u001b[0m                                 Traceback (most recent call last)",
      "\u001b[0;32m<ipython-input-1-7cb73a8e9878>\u001b[0m in \u001b[0;36m<module>\u001b[0;34m\u001b[0m\n\u001b[0;32m----> 1\u001b[0;31m \u001b[0mdf_SubsetSize\u001b[0m \u001b[0;34m=\u001b[0m \u001b[0mpd\u001b[0m\u001b[0;34m.\u001b[0m\u001b[0mread_csv\u001b[0m\u001b[0;34m(\u001b[0m\u001b[0;34m'./european-union-lgbt-survey-2012/LGBT_Survey_SubsetSize.csv'\u001b[0m\u001b[0;34m)\u001b[0m\u001b[0;34m\u001b[0m\u001b[0m\n\u001b[0m\u001b[1;32m      2\u001b[0m \u001b[0mdf_HDI\u001b[0m \u001b[0;34m=\u001b[0m \u001b[0mpd\u001b[0m\u001b[0;34m.\u001b[0m\u001b[0mread_csv\u001b[0m\u001b[0;34m(\u001b[0m\u001b[0;34m'fix_hdi.csv'\u001b[0m\u001b[0;34m)\u001b[0m\u001b[0;34m\u001b[0m\u001b[0m\n",
      "\u001b[0;31mNameError\u001b[0m: name 'pd' is not defined"
     ]
    }
   ],
   "source": [
    "df_DailyLife = pd.read_csv('./european-union-lgbt-survey-2012/LGBT_Survey_DailyLife.csv')\n",
    "df_Discrim = pd.read_csv('./european-union-lgbt-survey-2012/LGBT_Survey_Discrimination.csv')\n",
    "df_RightsAwar = pd.read_csv('./european-union-lgbt-survey-2012/LGBT_Survey_RightsAwareness.csv')\n",
    "df_SubsetSize = pd.read_csv('./european-union-lgbt-survey-2012/LGBT_Survey_SubsetSize.csv')\n",
    "df_TransSpecQ = pd.read_csv('./european-union-lgbt-survey-2012/LGBT_Survey_TransgenderSpecificQuestions.csv')\n",
    "df_ViolHaras = pd.read_csv('./european-union-lgbt-survey-2012/LGBT_Survey_ViolenceAndHarassment.csv')\n",
    "df_HDI = pd.read_csv('fix_hdi.csv')"
   ]
  },
  {
   "cell_type": "markdown",
   "metadata": {},
   "source": [
    "Função que cria novos data frames com as  as perguntas feitas e suas possíveis respostas, para facilitar a análise posterior:"
   ]
  },
  {
   "cell_type": "code",
   "execution_count": null,
   "metadata": {},
   "outputs": [],
   "source": [
    "def group_question(df, df_name):\n",
    "    df_quest = df.copy()\n",
    "    df_quest.drop(['CountryCode', 'subset', 'percentage', 'notes'], axis=1, inplace=True)\n",
    "    df_quest = df_quest.groupby(['question_code', 'answer'])\n",
    "    df_quest.first().reset_index().to_csv('questions/' + df_name + 'Quest.csv')\n",
    "    return df_quest.first()"
   ]
  },
  {
   "cell_type": "markdown",
   "metadata": {},
   "source": [
    "Chamando a função para os data frames:"
   ]
  },
  {
   "cell_type": "code",
   "execution_count": null,
   "metadata": {
    "scrolled": false
   },
   "outputs": [],
   "source": [
    "group_question(df_DailyLife, 'DailyLife')"
   ]
  },
  {
   "cell_type": "code",
   "execution_count": null,
   "metadata": {
    "scrolled": false
   },
   "outputs": [],
   "source": [
    "group_question(df_Discrim, 'Discrim')"
   ]
  },
  {
   "cell_type": "code",
   "execution_count": null,
   "metadata": {
    "scrolled": false
   },
   "outputs": [],
   "source": [
    "group_question(df_RightsAwar, 'RightsAwar')"
   ]
  },
  {
   "cell_type": "code",
   "execution_count": null,
   "metadata": {
    "scrolled": false
   },
   "outputs": [],
   "source": [
    "group_question(df_TransSpecQ, 'TransSpecQ')"
   ]
  },
  {
   "cell_type": "code",
   "execution_count": null,
   "metadata": {
    "scrolled": false
   },
   "outputs": [],
   "source": [
    "group_question(df_ViolHaras, 'ViolHaras')\n",
    "df_quest = df_ViolHaras.copy()\n",
    "df_quest.drop(['CountryCode', 'subset', 'percentage', 'notes'], axis=1, inplace=True)\n",
    "df_quest = df_quest.groupby(['question_code', 'answer'])\n",
    "df_quest.first().reset_index().to_csv('questions/ViolHarasQuest.csv')\n",
    "df_quest.first()"
   ]
  },
  {
   "cell_type": "markdown",
   "metadata": {},
   "source": [
    "Data frame com quantidade de pessoas entrevistadas por país com separação pelos respectivos grupos:"
   ]
  },
  {
   "cell_type": "code",
   "execution_count": null,
   "metadata": {
    "scrolled": false
   },
   "outputs": [],
   "source": [
    "df_SubsetSize"
   ]
  },
  {
   "cell_type": "code",
   "execution_count": 54,
   "metadata": {},
   "outputs": [
    {
     "data": {
      "text/html": [
       "<div>\n",
       "<style scoped>\n",
       "    .dataframe tbody tr th:only-of-type {\n",
       "        vertical-align: middle;\n",
       "    }\n",
       "\n",
       "    .dataframe tbody tr th {\n",
       "        vertical-align: top;\n",
       "    }\n",
       "\n",
       "    .dataframe thead th {\n",
       "        text-align: right;\n",
       "    }\n",
       "</style>\n",
       "<table border=\"1\" class=\"dataframe\">\n",
       "  <thead>\n",
       "    <tr style=\"text-align: right;\">\n",
       "      <th></th>\n",
       "      <th>(2017)</th>\n",
       "      <th>Country</th>\n",
       "      <th>1990</th>\n",
       "      <th>1991</th>\n",
       "      <th>1992</th>\n",
       "      <th>1993</th>\n",
       "      <th>1994</th>\n",
       "      <th>1995</th>\n",
       "      <th>1996</th>\n",
       "      <th>1997</th>\n",
       "      <th>...</th>\n",
       "      <th>2008</th>\n",
       "      <th>2009</th>\n",
       "      <th>2010</th>\n",
       "      <th>2011</th>\n",
       "      <th>2012</th>\n",
       "      <th>2013</th>\n",
       "      <th>2014</th>\n",
       "      <th>2015</th>\n",
       "      <th>2016</th>\n",
       "      <th>2017</th>\n",
       "    </tr>\n",
       "  </thead>\n",
       "  <tbody>\n",
       "    <tr>\n",
       "      <th>0</th>\n",
       "      <td>168</td>\n",
       "      <td>Afghanistan</td>\n",
       "      <td>..</td>\n",
       "      <td>..</td>\n",
       "      <td>..</td>\n",
       "      <td>..</td>\n",
       "      <td>..</td>\n",
       "      <td>..</td>\n",
       "      <td>..</td>\n",
       "      <td>..</td>\n",
       "      <td>...</td>\n",
       "      <td>0.437</td>\n",
       "      <td>0.453</td>\n",
       "      <td>0.463</td>\n",
       "      <td>0.471</td>\n",
       "      <td>0.482</td>\n",
       "      <td>0.487</td>\n",
       "      <td>0.491</td>\n",
       "      <td>0.493</td>\n",
       "      <td>0.494</td>\n",
       "      <td>0.498</td>\n",
       "    </tr>\n",
       "    <tr>\n",
       "      <th>1</th>\n",
       "      <td>68</td>\n",
       "      <td>Albania</td>\n",
       "      <td>0.645</td>\n",
       "      <td>0.626</td>\n",
       "      <td>0.610</td>\n",
       "      <td>0.613</td>\n",
       "      <td>0.619</td>\n",
       "      <td>0.632</td>\n",
       "      <td>0.641</td>\n",
       "      <td>0.641</td>\n",
       "      <td>...</td>\n",
       "      <td>0.724</td>\n",
       "      <td>0.729</td>\n",
       "      <td>0.741</td>\n",
       "      <td>0.752</td>\n",
       "      <td>0.767</td>\n",
       "      <td>0.771</td>\n",
       "      <td>0.773</td>\n",
       "      <td>0.776</td>\n",
       "      <td>0.782</td>\n",
       "      <td>0.785</td>\n",
       "    </tr>\n",
       "    <tr>\n",
       "      <th>2</th>\n",
       "      <td>85</td>\n",
       "      <td>Algeria</td>\n",
       "      <td>0.577</td>\n",
       "      <td>0.581</td>\n",
       "      <td>0.587</td>\n",
       "      <td>0.591</td>\n",
       "      <td>0.595</td>\n",
       "      <td>0.600</td>\n",
       "      <td>0.608</td>\n",
       "      <td>0.617</td>\n",
       "      <td>...</td>\n",
       "      <td>0.709</td>\n",
       "      <td>0.719</td>\n",
       "      <td>0.729</td>\n",
       "      <td>0.736</td>\n",
       "      <td>0.740</td>\n",
       "      <td>0.745</td>\n",
       "      <td>0.747</td>\n",
       "      <td>0.749</td>\n",
       "      <td>0.753</td>\n",
       "      <td>0.754</td>\n",
       "    </tr>\n",
       "    <tr>\n",
       "      <th>3</th>\n",
       "      <td>35</td>\n",
       "      <td>Andorra</td>\n",
       "      <td>..</td>\n",
       "      <td>..</td>\n",
       "      <td>..</td>\n",
       "      <td>..</td>\n",
       "      <td>..</td>\n",
       "      <td>..</td>\n",
       "      <td>..</td>\n",
       "      <td>..</td>\n",
       "      <td>...</td>\n",
       "      <td>0.831</td>\n",
       "      <td>0.830</td>\n",
       "      <td>0.828</td>\n",
       "      <td>0.827</td>\n",
       "      <td>0.849</td>\n",
       "      <td>0.850</td>\n",
       "      <td>0.853</td>\n",
       "      <td>0.854</td>\n",
       "      <td>0.856</td>\n",
       "      <td>0.858</td>\n",
       "    </tr>\n",
       "    <tr>\n",
       "      <th>4</th>\n",
       "      <td>147</td>\n",
       "      <td>Angola</td>\n",
       "      <td>..</td>\n",
       "      <td>..</td>\n",
       "      <td>..</td>\n",
       "      <td>..</td>\n",
       "      <td>..</td>\n",
       "      <td>..</td>\n",
       "      <td>..</td>\n",
       "      <td>..</td>\n",
       "      <td>...</td>\n",
       "      <td>0.502</td>\n",
       "      <td>0.522</td>\n",
       "      <td>0.520</td>\n",
       "      <td>0.535</td>\n",
       "      <td>0.543</td>\n",
       "      <td>0.554</td>\n",
       "      <td>0.564</td>\n",
       "      <td>0.572</td>\n",
       "      <td>0.577</td>\n",
       "      <td>0.581</td>\n",
       "    </tr>\n",
       "  </tbody>\n",
       "</table>\n",
       "<p>5 rows × 30 columns</p>\n",
       "</div>"
      ],
      "text/plain": [
       "  (2017)      Country   1990   1991   1992   1993   1994   1995   1996   1997  \\\n",
       "0    168  Afghanistan     ..     ..     ..     ..     ..     ..     ..     ..   \n",
       "1     68      Albania  0.645  0.626  0.610  0.613  0.619  0.632  0.641  0.641   \n",
       "2     85      Algeria  0.577  0.581  0.587  0.591  0.595  0.600  0.608  0.617   \n",
       "3     35      Andorra     ..     ..     ..     ..     ..     ..     ..     ..   \n",
       "4    147       Angola     ..     ..     ..     ..     ..     ..     ..     ..   \n",
       "\n",
       "   ...   2008   2009   2010   2011   2012   2013   2014   2015   2016   2017  \n",
       "0  ...  0.437  0.453  0.463  0.471  0.482  0.487  0.491  0.493  0.494  0.498  \n",
       "1  ...  0.724  0.729  0.741  0.752  0.767  0.771  0.773  0.776  0.782  0.785  \n",
       "2  ...  0.709  0.719  0.729  0.736  0.740  0.745  0.747  0.749  0.753  0.754  \n",
       "3  ...  0.831  0.830  0.828  0.827  0.849  0.850  0.853  0.854  0.856  0.858  \n",
       "4  ...  0.502  0.522  0.520  0.535  0.543  0.554  0.564  0.572  0.577  0.581  \n",
       "\n",
       "[5 rows x 30 columns]"
      ]
     },
     "execution_count": 54,
     "metadata": {},
     "output_type": "execute_result"
    }
   ],
   "source": [
    "df_HDI.head()"
   ]
  },
  {
   "cell_type": "code",
   "execution_count": 44,
   "metadata": {},
   "outputs": [],
   "source": [
    "# import csv\n",
    "# import string\n",
    "\n",
    "# input_file = open('human_development_index.csv', 'r')\n",
    "# output_file = open('fix_hdi.csv', 'w')\n",
    "# specials = '\"'\n",
    "\n",
    "# for line in input_file:\n",
    "#     new_line = str.replace(line,specials,'')\n",
    "#     output_file.write(new_line)\n",
    "    \n",
    "# input_file.close()\n",
    "# output_file.close()"
   ]
  },
  {
   "cell_type": "code",
   "execution_count": null,
   "metadata": {},
   "outputs": [],
   "source": []
  }
 ],
 "metadata": {
  "kernelspec": {
   "display_name": "Python 3",
   "language": "python",
   "name": "python3"
  },
  "language_info": {
   "codemirror_mode": {
    "name": "ipython",
    "version": 3
   },
   "file_extension": ".py",
   "mimetype": "text/x-python",
   "name": "python",
   "nbconvert_exporter": "python",
   "pygments_lexer": "ipython3",
   "version": "3.6.5"
  }
 },
 "nbformat": 4,
 "nbformat_minor": 2
}
