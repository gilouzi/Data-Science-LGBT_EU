{
 "cells": [
  {
   "cell_type": "markdown",
   "metadata": {},
   "source": [
    "# ICD - Projeto final\n",
    "## LGBTQI+: bem estar e consequências do preconceito na União Europeia em 2012"
   ]
  },
  {
   "cell_type": "markdown",
   "metadata": {},
   "source": [
    "- Gabriel Lima Canguçu\n",
    "- Giovanna Louzi Bellonia\n",
    "- Thiago Martin Poppe"
   ]
  },
  {
   "cell_type": "markdown",
   "metadata": {},
   "source": [
    "## Informações externas"
   ]
  },
  {
   "cell_type": "markdown",
   "metadata": {},
   "source": [
    "Link para o vídeo: *In progress* <BR>\n",
    "Link para o GitHub: https://github.com/gilouzi/Data-Science-LGBT_EU"
   ]
  },
  {
   "cell_type": "markdown",
   "metadata": {},
   "source": [
    "Todos os notebooks utilizados para filtragem dos dados e análise se encontram na pasta do trabalho."
   ]
  },
  {
   "cell_type": "markdown",
   "metadata": {},
   "source": [
    "## Introdução"
   ]
  },
  {
   "cell_type": "markdown",
   "metadata": {},
   "source": [
    "Os últimos anos foram marcados por uma crescente onda de ódio em todo o mundo, acompanhada pela ascensão do conservadorismo. Um dos principais grupos sociais afetados por esse fenômeno é o dos LGBTQI+, que há anos luta por direitos e inclusão; conquistas recentes como a legalização da união civil LGBT em todo o território americano representam uma grande conquista em meio a esse cenário, mas a situação nem sempre foi assim.\n",
    "\n",
    "Tendo isso em mente, utilizamos dados referentes à União Europeia em 2012 para analisar aspectos como a influência da discriminação na vida pessoal, além da relação entre o IDH de um país com o bem estar desse grupo."
   ]
  },
  {
   "cell_type": "markdown",
   "metadata": {},
   "source": [
    "## Perguntas"
   ]
  },
  {
   "cell_type": "markdown",
   "metadata": {},
   "source": [
    "- Qual a influência do Índice de Desenvolvimento Humano (IDH) sobre a qualidade de vida dos LGBTs? Essa minoria social se beneficia de menos discriminação e mais direitos em países com maiores IDHs?\n",
    "- O machismo influencia para que homens tenham menor aceitação da sexualidade em comparação com as mulheres? Isso é mais perceptível entre homens bissexuais?"
   ]
  },
  {
   "cell_type": "markdown",
   "metadata": {},
   "source": [
    "## Dados utilizados"
   ]
  },
  {
   "cell_type": "markdown",
   "metadata": {},
   "source": [
    "A principal base de dados utilizada para esta análise foi retirada de https://www.kaggle.com/ruslankl/european-union-lgbt-survey-2012 e contém dados de países pertencentes à União Europeia e Croácia no ano de 2012. Essa base foi obtida após uma pesquisa, para a qual foi realizada uma série de perguntas a respeito de bem estar, discriminação e violência direcionadas aos LGBTs. As perguntas consideram, ainda, subgrupos dentro dos LGBTs e separação por país de origem.\n",
    "\n",
    "Foi utilizada, ainda, a base disponível em http://hdr.undp.org/en/indicators/137506 para a obtenção do IDH de cada um dos países presentes na pesquisa."
   ]
  },
  {
   "cell_type": "markdown",
   "metadata": {},
   "source": [
    "## Limpeza dos dados"
   ]
  },
  {
   "cell_type": "markdown",
   "metadata": {},
   "source": [
    "Para a bases de dados do IDH, todas as colunas com excessão à referente ao ano de 2012 foram removidas.\n",
    "\n",
    "Já para a base da pesquisa foram necessárias pequenas correções e ajustes, como a inclusão de uma coluna com o ID do país, conversão de valores em porcentagem para *float* e remoção de uma coluna contendo apenas valores NaN."
   ]
  },
  {
   "cell_type": "markdown",
   "metadata": {},
   "source": [
    "## Análise dos dados"
   ]
  },
  {
   "cell_type": "markdown",
   "metadata": {},
   "source": [
    "### Quantidade de autodeclarados gays e lésbicas"
   ]
  },
  {
   "cell_type": "markdown",
   "metadata": {},
   "source": [
    "![](./Data/images/gays_lesbians.png)"
   ]
  },
  {
   "cell_type": "markdown",
   "metadata": {},
   "source": [
    "### Quantidade de autodeclarados bissexuais"
   ]
  },
  {
   "cell_type": "markdown",
   "metadata": {},
   "source": [
    "![](./Data/images/bissex.png)"
   ]
  },
  {
   "cell_type": "markdown",
   "metadata": {},
   "source": [
    "### Quantidade de autodeclarados transgêneros"
   ]
  },
  {
   "cell_type": "markdown",
   "metadata": {},
   "source": [
    "![](./Data/images/trans.png)"
   ]
  },
  {
   "cell_type": "markdown",
   "metadata": {},
   "source": [
    "### Análise geral quantitativa"
   ]
  },
  {
   "cell_type": "markdown",
   "metadata": {},
   "source": [
    "![](./Data/images/general.png)"
   ]
  },
  {
   "cell_type": "markdown",
   "metadata": {},
   "source": [
    "## Regressão linear"
   ]
  },
  {
   "cell_type": "markdown",
   "metadata": {},
   "source": [
    "Para todas as perguntas da pesquisa a resposta terá um valor pertencente ao intervalo discreto [-1, 1], com excessão de respostas neutras (\"Don't know\"), que terão valor igual a NaN. Perguntas com uma resposta negativa terão valor -1, e com resposta positiva terão valor +1; ao final, os valores são somados a um _score_ que define, de um modo geral, o bem estar de um indivíduo.\n",
    "\n",
    "As respostas das perguntas se dividem em essencialmente três conjuntos, sendo eles:\n",
    "- Very widespread, Fairly widespread, Fairly rare, Very rare\n",
    "- Yes, No\n",
    "- Always, Often, Rarely, Never\n",
    "\n",
    "Não existe, contudo, uma relação direta entre o tipo de resposta e o seu valor numérico. Por exemplo, em uma pergunta com a resposta \"yes\" o valor somado ao _score_ pode ser +1 ou -1 para o caso de a pergunta ser, respectivamente, positiva ou negativa. Para isso, foram utilizadas funções criadas pelo autor da pesquisa para agrupar perguntas cujas respostas numérica e categórica têm a mesma relação.\n",
    "\n",
    "A partir do _score_ obtido para cada indivíduo, obtivemos o _score_ total para cada país. Com base nisso, pudemos buscar obter respostas a respeito da influência do IDH de um país sobre o bem estar geral da população LGBT por meio de uma regressão linear, onde o IDH ocupa o eixo das abscissas e o _score_ o eixo das ordenadas. Os resultados se encontram a seguir:"
   ]
  },
  {
   "cell_type": "markdown",
   "metadata": {},
   "source": [
    "![](./Data/images/regression.png)"
   ]
  },
  {
   "cell_type": "markdown",
   "metadata": {},
   "source": [
    "É possível constatar que um modelo linear descreve bem os dados. Assim, notamos que de fato há um relação entre o IDH de um país e o bem estar da população LGBT.\n",
    "\n",
    "Abaixo encontram-se as regressões considerando as diferentes categorias para a medição do _score_, como _daily life_, _discrimination_, _harassment_ entre outros."
   ]
  },
  {
   "cell_type": "markdown",
   "metadata": {},
   "source": [
    "### Daily Life"
   ]
  },
  {
   "cell_type": "markdown",
   "metadata": {},
   "source": [
    "![](./Data/images/regression_daily.png)"
   ]
  },
  {
   "cell_type": "markdown",
   "metadata": {},
   "source": [
    "### Discrimination"
   ]
  },
  {
   "cell_type": "markdown",
   "metadata": {},
   "source": [
    "![](./Data/images/regression_discrim.png)"
   ]
  },
  {
   "cell_type": "markdown",
   "metadata": {},
   "source": [
    "### Rights awareness"
   ]
  },
  {
   "cell_type": "markdown",
   "metadata": {},
   "source": [
    "![](./Data/images/regression_rights.png)"
   ]
  },
  {
   "cell_type": "markdown",
   "metadata": {},
   "source": [
    "### Violence and harassment"
   ]
  },
  {
   "cell_type": "markdown",
   "metadata": {},
   "source": [
    "![](./Data/images/regression_violence.png)"
   ]
  },
  {
   "cell_type": "markdown",
   "metadata": {},
   "source": [
    "## Classificação"
   ]
  },
  {
   "cell_type": "markdown",
   "metadata": {},
   "source": [
    "Por meio de um classificador kNN, buscamos descobrir se seria possível prever a que subgrupo pertence uma pessoa com base em suas respostas. Com isso, buscaríamos saber se existe algum viés em respostas negativas direcionado a um dos grupos.\n",
    "\n",
    "Após a classificação, obtivemos uma acurácia de penas 26% para todas as classes. A matriz de confusão ode ser vista a seguir:"
   ]
  },
  {
   "cell_type": "markdown",
   "metadata": {},
   "source": [
    "![](./Data/images/confusion_matrix.png)"
   ]
  },
  {
   "cell_type": "markdown",
   "metadata": {},
   "source": [
    "Com isso, constatamos que não é possível afirmar que não há um subgrupo mais afetado. Contudo, a classe \"Bisexual man\" obteve a melhor acurácia; isso pode indicar que este é o subgrupo com menores índices de autoaceitação aceitação, ainda que não possamos afirmar com certeza. Portanto, nossa hipótese de que o grupo composto por homens bissexuais é o mais afetado pelo machismo não pode ser confirmada ou refutada."
   ]
  },
  {
   "cell_type": "markdown",
   "metadata": {},
   "source": [
    "## Conclusão"
   ]
  },
  {
   "cell_type": "markdown",
   "metadata": {},
   "source": [
    "A regressão linear nos mostra que o índice de desenvolvimento humano de um país é um bom indicativo do bem estar da população LGBT. Isso pode se dar pelo fato de que habitantes de países com maiores IDHs têm mais acesso à educação, além de contarem com um maior número de leis que visa a garantia dos direitos dessa minoria social.\n",
    "\n",
    "Entretanto, o classificador não mostrou resultados promissores quanto ao fato de homens bissexuais a terem menor aceitação sobre a sexualidade. Logo, é possível que não haja uma grande influência do machismo nesse grupo, mas também é possível que os dados disponíveis sejam insuficientes para comprovar essa hipótese."
   ]
  }
 ],
 "metadata": {
  "kernelspec": {
   "display_name": "Python 3",
   "language": "python",
   "name": "python3"
  },
  "language_info": {
   "codemirror_mode": {
    "name": "ipython",
    "version": 3
   },
   "file_extension": ".py",
   "mimetype": "text/x-python",
   "name": "python",
   "nbconvert_exporter": "python",
   "pygments_lexer": "ipython3",
   "version": "3.7.3"
  }
 },
 "nbformat": 4,
 "nbformat_minor": 2
}
