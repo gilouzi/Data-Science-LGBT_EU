{
 "cells": [
  {
   "cell_type": "markdown",
   "metadata": {},
   "source": [
    "# ICD - Projeto final\n",
    "## LGBTQI+: bem estar e consequências do preconceito na União Europeia em 2012"
   ]
  },
  {
   "cell_type": "markdown",
   "metadata": {},
   "source": [
    "- Gabriel Lima Canguçu\n",
    "- Giovanna Louzi Bellonia\n",
    "- Thiago Martin Poppe"
   ]
  },
  {
   "cell_type": "markdown",
   "metadata": {},
   "source": [
    "## Informações externas"
   ]
  },
  {
   "cell_type": "markdown",
   "metadata": {},
   "source": [
    "Link para o vídeo: *In progress* <BR>\n",
    "Link para o GitHub: https://github.com/gilouzi/Data-Science-LGBT_EU"
   ]
  },
  {
   "cell_type": "markdown",
   "metadata": {},
   "source": [
    "Todos os notebooks utilizados para filtragem dos dados e análise se encontram na pasta do trabalho."
   ]
  },
  {
   "cell_type": "markdown",
   "metadata": {},
   "source": [
    "## Introdução"
   ]
  },
  {
   "cell_type": "markdown",
   "metadata": {},
   "source": [
    "Os últimos anos foram marcados por uma crescente onda de ódio em todo o mundo, acompanhada pela ascensão do conservadorismo. Um dos principais grupos sociais afetados por esse fenômeno é o dos LGBTQI+, que há anos luta por direitos e inclusão; conquistas recentes como a legalização da união civil LGBT em todo o território americano representam uma grande conquista em meio a esse cenário, mas a situação nem sempre foi assim.\n",
    "\n",
    "Tendo isso em mente, utilizamos dados referentes à União Europeia em 2012 para analisar aspectos como a influência da discriminação na vida pessoal, além da relação entre o IDH de um país com o bem estar desse grupo."
   ]
  },
  {
   "cell_type": "code",
   "execution_count": null,
   "metadata": {},
   "outputs": [],
   "source": []
  }
 ],
 "metadata": {
  "kernelspec": {
   "display_name": "Python 3",
   "language": "python",
   "name": "python3"
  },
  "language_info": {
   "codemirror_mode": {
    "name": "ipython",
    "version": 3
   },
   "file_extension": ".py",
   "mimetype": "text/x-python",
   "name": "python",
   "nbconvert_exporter": "python",
   "pygments_lexer": "ipython3",
   "version": "3.7.3"
  }
 },
 "nbformat": 4,
 "nbformat_minor": 2
}
