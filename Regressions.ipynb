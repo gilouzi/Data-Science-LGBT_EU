{
 "cells": [
  {
   "cell_type": "code",
   "execution_count": 1,
   "metadata": {},
   "outputs": [],
   "source": [
    "import numpy as np\n",
    "import pandas as pd\n",
    "import seaborn as sns\n",
    "import matplotlib.pyplot as plt\n",
    "\n",
    "from scipy import stats as ss"
   ]
  },
  {
   "cell_type": "markdown",
   "metadata": {},
   "source": [
    "### Lendo os dados"
   ]
  },
  {
   "cell_type": "code",
   "execution_count": 2,
   "metadata": {},
   "outputs": [
    {
     "data": {
      "text/html": [
       "<div>\n",
       "<style scoped>\n",
       "    .dataframe tbody tr th:only-of-type {\n",
       "        vertical-align: middle;\n",
       "    }\n",
       "\n",
       "    .dataframe tbody tr th {\n",
       "        vertical-align: top;\n",
       "    }\n",
       "\n",
       "    .dataframe thead th {\n",
       "        text-align: right;\n",
       "    }\n",
       "</style>\n",
       "<table border=\"1\" class=\"dataframe\">\n",
       "  <thead>\n",
       "    <tr style=\"text-align: right;\">\n",
       "      <th></th>\n",
       "      <th>CountryName</th>\n",
       "      <th>subset</th>\n",
       "      <th>question_code</th>\n",
       "      <th>question_label</th>\n",
       "      <th>answer</th>\n",
       "      <th>percentage</th>\n",
       "      <th>weight</th>\n",
       "    </tr>\n",
       "  </thead>\n",
       "  <tbody>\n",
       "    <tr>\n",
       "      <th>0</th>\n",
       "      <td>Austria</td>\n",
       "      <td>Lesbian</td>\n",
       "      <td>b1_a</td>\n",
       "      <td>In your opinion, how widespread is offensive l...</td>\n",
       "      <td>Very widespread</td>\n",
       "      <td>8.0</td>\n",
       "      <td>-1.0</td>\n",
       "    </tr>\n",
       "    <tr>\n",
       "      <th>1</th>\n",
       "      <td>Austria</td>\n",
       "      <td>Lesbian</td>\n",
       "      <td>b1_a</td>\n",
       "      <td>In your opinion, how widespread is offensive l...</td>\n",
       "      <td>Fairly widespread</td>\n",
       "      <td>34.0</td>\n",
       "      <td>-0.5</td>\n",
       "    </tr>\n",
       "    <tr>\n",
       "      <th>2</th>\n",
       "      <td>Austria</td>\n",
       "      <td>Lesbian</td>\n",
       "      <td>b1_a</td>\n",
       "      <td>In your opinion, how widespread is offensive l...</td>\n",
       "      <td>Fairly rare</td>\n",
       "      <td>45.0</td>\n",
       "      <td>0.5</td>\n",
       "    </tr>\n",
       "    <tr>\n",
       "      <th>3</th>\n",
       "      <td>Austria</td>\n",
       "      <td>Lesbian</td>\n",
       "      <td>b1_a</td>\n",
       "      <td>In your opinion, how widespread is offensive l...</td>\n",
       "      <td>Very rare</td>\n",
       "      <td>9.0</td>\n",
       "      <td>1.0</td>\n",
       "    </tr>\n",
       "    <tr>\n",
       "      <th>4</th>\n",
       "      <td>Austria</td>\n",
       "      <td>Gay</td>\n",
       "      <td>b1_a</td>\n",
       "      <td>In your opinion, how widespread is offensive l...</td>\n",
       "      <td>Very widespread</td>\n",
       "      <td>4.0</td>\n",
       "      <td>-1.0</td>\n",
       "    </tr>\n",
       "  </tbody>\n",
       "</table>\n",
       "</div>"
      ],
      "text/plain": [
       "  CountryName   subset question_code  \\\n",
       "0     Austria  Lesbian          b1_a   \n",
       "1     Austria  Lesbian          b1_a   \n",
       "2     Austria  Lesbian          b1_a   \n",
       "3     Austria  Lesbian          b1_a   \n",
       "4     Austria      Gay          b1_a   \n",
       "\n",
       "                                      question_label             answer  \\\n",
       "0  In your opinion, how widespread is offensive l...    Very widespread   \n",
       "1  In your opinion, how widespread is offensive l...  Fairly widespread   \n",
       "2  In your opinion, how widespread is offensive l...        Fairly rare   \n",
       "3  In your opinion, how widespread is offensive l...          Very rare   \n",
       "4  In your opinion, how widespread is offensive l...    Very widespread   \n",
       "\n",
       "   percentage  weight  \n",
       "0         8.0    -1.0  \n",
       "1        34.0    -0.5  \n",
       "2        45.0     0.5  \n",
       "3         9.0     1.0  \n",
       "4         4.0    -1.0  "
      ]
     },
     "execution_count": 2,
     "metadata": {},
     "output_type": "execute_result"
    }
   ],
   "source": [
    "df_DailyLife             = pd.read_csv('Data/weighted-survey-data-2012/DailyLife.csv')\n",
    "df_Discrimination        = pd.read_csv('Data/weighted-survey-data-2012/Discrimination.csv')\n",
    "df_RightsAwareness       = pd.read_csv('Data/weighted-survey-data-2012/RightsAwareness.csv')\n",
    "df_ViolenceAndHarassment = pd.read_csv('Data/weighted-survey-data-2012/ViolenceAndHarassment.csv')\n",
    "df_HDI                   = pd.read_csv('Data/cleaned-survey-data-2012/HDI_EU-2012.csv')\n",
    "\n",
    "df_DailyLife.head()"
   ]
  },
  {
   "cell_type": "markdown",
   "metadata": {},
   "source": [
    "### Modificando os dados\n",
    "\n",
    "- Criaremos uma coluna auxiliar que significa percentage * weight"
   ]
  },
  {
   "cell_type": "code",
   "execution_count": 3,
   "metadata": {},
   "outputs": [
    {
     "data": {
      "text/html": [
       "<div>\n",
       "<style scoped>\n",
       "    .dataframe tbody tr th:only-of-type {\n",
       "        vertical-align: middle;\n",
       "    }\n",
       "\n",
       "    .dataframe tbody tr th {\n",
       "        vertical-align: top;\n",
       "    }\n",
       "\n",
       "    .dataframe thead th {\n",
       "        text-align: right;\n",
       "    }\n",
       "</style>\n",
       "<table border=\"1\" class=\"dataframe\">\n",
       "  <thead>\n",
       "    <tr style=\"text-align: right;\">\n",
       "      <th></th>\n",
       "      <th>CountryName</th>\n",
       "      <th>subset</th>\n",
       "      <th>question_code</th>\n",
       "      <th>question_label</th>\n",
       "      <th>answer</th>\n",
       "      <th>percentage</th>\n",
       "      <th>weight</th>\n",
       "      <th>score</th>\n",
       "    </tr>\n",
       "  </thead>\n",
       "  <tbody>\n",
       "    <tr>\n",
       "      <th>0</th>\n",
       "      <td>Austria</td>\n",
       "      <td>Lesbian</td>\n",
       "      <td>b1_a</td>\n",
       "      <td>In your opinion, how widespread is offensive l...</td>\n",
       "      <td>Very widespread</td>\n",
       "      <td>8.0</td>\n",
       "      <td>-1.0</td>\n",
       "      <td>-0.080</td>\n",
       "    </tr>\n",
       "    <tr>\n",
       "      <th>1</th>\n",
       "      <td>Austria</td>\n",
       "      <td>Lesbian</td>\n",
       "      <td>b1_a</td>\n",
       "      <td>In your opinion, how widespread is offensive l...</td>\n",
       "      <td>Fairly widespread</td>\n",
       "      <td>34.0</td>\n",
       "      <td>-0.5</td>\n",
       "      <td>-0.170</td>\n",
       "    </tr>\n",
       "    <tr>\n",
       "      <th>2</th>\n",
       "      <td>Austria</td>\n",
       "      <td>Lesbian</td>\n",
       "      <td>b1_a</td>\n",
       "      <td>In your opinion, how widespread is offensive l...</td>\n",
       "      <td>Fairly rare</td>\n",
       "      <td>45.0</td>\n",
       "      <td>0.5</td>\n",
       "      <td>0.225</td>\n",
       "    </tr>\n",
       "    <tr>\n",
       "      <th>3</th>\n",
       "      <td>Austria</td>\n",
       "      <td>Lesbian</td>\n",
       "      <td>b1_a</td>\n",
       "      <td>In your opinion, how widespread is offensive l...</td>\n",
       "      <td>Very rare</td>\n",
       "      <td>9.0</td>\n",
       "      <td>1.0</td>\n",
       "      <td>0.090</td>\n",
       "    </tr>\n",
       "    <tr>\n",
       "      <th>4</th>\n",
       "      <td>Austria</td>\n",
       "      <td>Gay</td>\n",
       "      <td>b1_a</td>\n",
       "      <td>In your opinion, how widespread is offensive l...</td>\n",
       "      <td>Very widespread</td>\n",
       "      <td>4.0</td>\n",
       "      <td>-1.0</td>\n",
       "      <td>-0.040</td>\n",
       "    </tr>\n",
       "  </tbody>\n",
       "</table>\n",
       "</div>"
      ],
      "text/plain": [
       "  CountryName   subset question_code  \\\n",
       "0     Austria  Lesbian          b1_a   \n",
       "1     Austria  Lesbian          b1_a   \n",
       "2     Austria  Lesbian          b1_a   \n",
       "3     Austria  Lesbian          b1_a   \n",
       "4     Austria      Gay          b1_a   \n",
       "\n",
       "                                      question_label             answer  \\\n",
       "0  In your opinion, how widespread is offensive l...    Very widespread   \n",
       "1  In your opinion, how widespread is offensive l...  Fairly widespread   \n",
       "2  In your opinion, how widespread is offensive l...        Fairly rare   \n",
       "3  In your opinion, how widespread is offensive l...          Very rare   \n",
       "4  In your opinion, how widespread is offensive l...    Very widespread   \n",
       "\n",
       "   percentage  weight  score  \n",
       "0         8.0    -1.0 -0.080  \n",
       "1        34.0    -0.5 -0.170  \n",
       "2        45.0     0.5  0.225  \n",
       "3         9.0     1.0  0.090  \n",
       "4         4.0    -1.0 -0.040  "
      ]
     },
     "execution_count": 3,
     "metadata": {},
     "output_type": "execute_result"
    }
   ],
   "source": [
    "def create_score(df):\n",
    "    df['score'] = df.apply(lambda row: row['weight'] * (row['percentage'] / 100), axis=1)\n",
    "    \n",
    "create_score(df_DailyLife)\n",
    "create_score(df_Discrimination)\n",
    "create_score(df_RightsAwareness)\n",
    "create_score(df_ViolenceAndHarassment)\n",
    "\n",
    "df_DailyLife.head()"
   ]
  },
  {
   "cell_type": "markdown",
   "metadata": {},
   "source": [
    "### Limpando os dados\n",
    "\n",
    "- Removeremos as colunas desnecessárias para as análises"
   ]
  },
  {
   "cell_type": "code",
   "execution_count": 4,
   "metadata": {},
   "outputs": [
    {
     "data": {
      "text/html": [
       "<div>\n",
       "<style scoped>\n",
       "    .dataframe tbody tr th:only-of-type {\n",
       "        vertical-align: middle;\n",
       "    }\n",
       "\n",
       "    .dataframe tbody tr th {\n",
       "        vertical-align: top;\n",
       "    }\n",
       "\n",
       "    .dataframe thead th {\n",
       "        text-align: right;\n",
       "    }\n",
       "</style>\n",
       "<table border=\"1\" class=\"dataframe\">\n",
       "  <thead>\n",
       "    <tr style=\"text-align: right;\">\n",
       "      <th></th>\n",
       "      <th>CountryName</th>\n",
       "      <th>score</th>\n",
       "    </tr>\n",
       "  </thead>\n",
       "  <tbody>\n",
       "    <tr>\n",
       "      <th>0</th>\n",
       "      <td>Austria</td>\n",
       "      <td>-0.080</td>\n",
       "    </tr>\n",
       "    <tr>\n",
       "      <th>1</th>\n",
       "      <td>Austria</td>\n",
       "      <td>-0.170</td>\n",
       "    </tr>\n",
       "    <tr>\n",
       "      <th>2</th>\n",
       "      <td>Austria</td>\n",
       "      <td>0.225</td>\n",
       "    </tr>\n",
       "    <tr>\n",
       "      <th>3</th>\n",
       "      <td>Austria</td>\n",
       "      <td>0.090</td>\n",
       "    </tr>\n",
       "    <tr>\n",
       "      <th>4</th>\n",
       "      <td>Austria</td>\n",
       "      <td>-0.040</td>\n",
       "    </tr>\n",
       "  </tbody>\n",
       "</table>\n",
       "</div>"
      ],
      "text/plain": [
       "  CountryName  score\n",
       "0     Austria -0.080\n",
       "1     Austria -0.170\n",
       "2     Austria  0.225\n",
       "3     Austria  0.090\n",
       "4     Austria -0.040"
      ]
     },
     "execution_count": 4,
     "metadata": {},
     "output_type": "execute_result"
    }
   ],
   "source": [
    "def clean_df(df):\n",
    "    return df[['CountryName', 'score']]\n",
    "\n",
    "df_DailyLife = clean_df(df_DailyLife)\n",
    "df_Discrimination = clean_df(df_Discrimination)\n",
    "df_RightsAwareness = clean_df(df_RightsAwareness)\n",
    "df_ViolenceAndHarassment = clean_df(df_ViolenceAndHarassment)\n",
    "\n",
    "df_DailyLife.head()"
   ]
  },
  {
   "cell_type": "markdown",
   "metadata": {},
   "source": [
    "### Agrupando os dados por país, somando os _scores_"
   ]
  },
  {
   "cell_type": "code",
   "execution_count": 5,
   "metadata": {},
   "outputs": [
    {
     "data": {
      "text/html": [
       "<div>\n",
       "<style scoped>\n",
       "    .dataframe tbody tr th:only-of-type {\n",
       "        vertical-align: middle;\n",
       "    }\n",
       "\n",
       "    .dataframe tbody tr th {\n",
       "        vertical-align: top;\n",
       "    }\n",
       "\n",
       "    .dataframe thead th {\n",
       "        text-align: right;\n",
       "    }\n",
       "</style>\n",
       "<table border=\"1\" class=\"dataframe\">\n",
       "  <thead>\n",
       "    <tr style=\"text-align: right;\">\n",
       "      <th></th>\n",
       "      <th>score</th>\n",
       "    </tr>\n",
       "    <tr>\n",
       "      <th>CountryName</th>\n",
       "      <th></th>\n",
       "    </tr>\n",
       "  </thead>\n",
       "  <tbody>\n",
       "    <tr>\n",
       "      <th>Austria</th>\n",
       "      <td>-1.540</td>\n",
       "    </tr>\n",
       "    <tr>\n",
       "      <th>Average</th>\n",
       "      <td>-4.445</td>\n",
       "    </tr>\n",
       "    <tr>\n",
       "      <th>Belgium</th>\n",
       "      <td>12.170</td>\n",
       "    </tr>\n",
       "    <tr>\n",
       "      <th>Bulgaria</th>\n",
       "      <td>-22.960</td>\n",
       "    </tr>\n",
       "    <tr>\n",
       "      <th>Croatia</th>\n",
       "      <td>-26.450</td>\n",
       "    </tr>\n",
       "  </tbody>\n",
       "</table>\n",
       "</div>"
      ],
      "text/plain": [
       "              score\n",
       "CountryName        \n",
       "Austria      -1.540\n",
       "Average      -4.445\n",
       "Belgium      12.170\n",
       "Bulgaria    -22.960\n",
       "Croatia     -26.450"
      ]
     },
     "execution_count": 5,
     "metadata": {},
     "output_type": "execute_result"
    }
   ],
   "source": [
    "group_DailyLife             = df_DailyLife.groupby('CountryName').sum()\n",
    "group_Discrimination        = df_Discrimination.groupby('CountryName').sum()\n",
    "group_RightsAwareness       = df_RightsAwareness.groupby('CountryName').sum()\n",
    "group_ViolenceAndHarassment = df_ViolenceAndHarassment.groupby('CountryName').sum()\n",
    "\n",
    "group_DailyLife.head()"
   ]
  },
  {
   "cell_type": "markdown",
   "metadata": {},
   "source": [
    "### Somando todos os _scores_, resultando no _score_ final para cada país"
   ]
  },
  {
   "cell_type": "code",
   "execution_count": 6,
   "metadata": {},
   "outputs": [
    {
     "data": {
      "text/html": [
       "<div>\n",
       "<style scoped>\n",
       "    .dataframe tbody tr th:only-of-type {\n",
       "        vertical-align: middle;\n",
       "    }\n",
       "\n",
       "    .dataframe tbody tr th {\n",
       "        vertical-align: top;\n",
       "    }\n",
       "\n",
       "    .dataframe thead th {\n",
       "        text-align: right;\n",
       "    }\n",
       "</style>\n",
       "<table border=\"1\" class=\"dataframe\">\n",
       "  <thead>\n",
       "    <tr style=\"text-align: right;\">\n",
       "      <th></th>\n",
       "      <th>CountryName</th>\n",
       "      <th>score</th>\n",
       "    </tr>\n",
       "  </thead>\n",
       "  <tbody>\n",
       "    <tr>\n",
       "      <th>0</th>\n",
       "      <td>Austria</td>\n",
       "      <td>13.9665</td>\n",
       "    </tr>\n",
       "    <tr>\n",
       "      <th>1</th>\n",
       "      <td>Average</td>\n",
       "      <td>2.2569</td>\n",
       "    </tr>\n",
       "    <tr>\n",
       "      <th>2</th>\n",
       "      <td>Belgium</td>\n",
       "      <td>28.2459</td>\n",
       "    </tr>\n",
       "    <tr>\n",
       "      <th>3</th>\n",
       "      <td>Bulgaria</td>\n",
       "      <td>-34.6853</td>\n",
       "    </tr>\n",
       "    <tr>\n",
       "      <th>4</th>\n",
       "      <td>Croatia</td>\n",
       "      <td>-19.3698</td>\n",
       "    </tr>\n",
       "  </tbody>\n",
       "</table>\n",
       "</div>"
      ],
      "text/plain": [
       "  CountryName    score\n",
       "0     Austria  13.9665\n",
       "1     Average   2.2569\n",
       "2     Belgium  28.2459\n",
       "3    Bulgaria -34.6853\n",
       "4     Croatia -19.3698"
      ]
     },
     "execution_count": 6,
     "metadata": {},
     "output_type": "execute_result"
    }
   ],
   "source": [
    "final_weight_per_country = group_DailyLife + group_Discrimination + group_RightsAwareness + group_ViolenceAndHarassment\n",
    "final_weight_per_country = final_weight_per_country.reset_index()\n",
    "final_weight_per_country.head()"
   ]
  },
  {
   "cell_type": "markdown",
   "metadata": {},
   "source": [
    "### Criando tuplas (IDH, _score_) por país"
   ]
  },
  {
   "cell_type": "code",
   "execution_count": 7,
   "metadata": {},
   "outputs": [
    {
     "data": {
      "text/html": [
       "<div>\n",
       "<style scoped>\n",
       "    .dataframe tbody tr th:only-of-type {\n",
       "        vertical-align: middle;\n",
       "    }\n",
       "\n",
       "    .dataframe tbody tr th {\n",
       "        vertical-align: top;\n",
       "    }\n",
       "\n",
       "    .dataframe thead th {\n",
       "        text-align: right;\n",
       "    }\n",
       "</style>\n",
       "<table border=\"1\" class=\"dataframe\">\n",
       "  <thead>\n",
       "    <tr style=\"text-align: right;\">\n",
       "      <th></th>\n",
       "      <th>CountryName</th>\n",
       "      <th>HDI-2012</th>\n",
       "      <th>score</th>\n",
       "    </tr>\n",
       "  </thead>\n",
       "  <tbody>\n",
       "    <tr>\n",
       "      <th>0</th>\n",
       "      <td>Bulgaria</td>\n",
       "      <td>0.786</td>\n",
       "      <td>-34.6853</td>\n",
       "    </tr>\n",
       "    <tr>\n",
       "      <th>1</th>\n",
       "      <td>Romania</td>\n",
       "      <td>0.795</td>\n",
       "      <td>-32.8909</td>\n",
       "    </tr>\n",
       "    <tr>\n",
       "      <th>2</th>\n",
       "      <td>Croatia</td>\n",
       "      <td>0.816</td>\n",
       "      <td>-19.3698</td>\n",
       "    </tr>\n",
       "    <tr>\n",
       "      <th>3</th>\n",
       "      <td>Latvia</td>\n",
       "      <td>0.824</td>\n",
       "      <td>-17.8596</td>\n",
       "    </tr>\n",
       "    <tr>\n",
       "      <th>4</th>\n",
       "      <td>Portugal</td>\n",
       "      <td>0.829</td>\n",
       "      <td>4.5956</td>\n",
       "    </tr>\n",
       "  </tbody>\n",
       "</table>\n",
       "</div>"
      ],
      "text/plain": [
       "  CountryName  HDI-2012    score\n",
       "0    Bulgaria     0.786 -34.6853\n",
       "1     Romania     0.795 -32.8909\n",
       "2     Croatia     0.816 -19.3698\n",
       "3      Latvia     0.824 -17.8596\n",
       "4    Portugal     0.829   4.5956"
      ]
     },
     "execution_count": 7,
     "metadata": {},
     "output_type": "execute_result"
    }
   ],
   "source": [
    "# Modificando o nome da coluna Country para CountryName\n",
    "df_HDI.rename(columns={'Country': 'CountryName', '2012': 'HDI-2012'}, inplace=True)\n",
    "\n",
    "# Realizando um merge entre os dataframes\n",
    "df_merged = pd.merge(df_HDI, final_weight_per_country)\n",
    "\n",
    "df_merged.head()"
   ]
  },
  {
   "cell_type": "code",
   "execution_count": 8,
   "metadata": {},
   "outputs": [
    {
     "name": "stdout",
     "output_type": "stream",
     "text": [
      "Melhor score [País, IDH, score]: ['Netherlands', 0.9209999999999999, 39.946199999999976]\n",
      "Pior score [País, IDH, score]: ['Bulgaria', 0.7859999999999999, -34.685300000000005]\n"
     ]
    }
   ],
   "source": [
    "print('Melhor score [País, IDH, score]:', df_merged.iloc[df_merged['score'].idxmax()].tolist())\n",
    "print('Pior score [País, IDH, score]:', df_merged.iloc[df_merged['score'].idxmin()].tolist())"
   ]
  },
  {
   "cell_type": "markdown",
   "metadata": {},
   "source": [
    "- Percebemos que o país com melhor score total é a Holanda; já o com pior é a Bulgária."
   ]
  },
  {
   "cell_type": "markdown",
   "metadata": {},
   "source": [
    "### Realizando a regressão"
   ]
  },
  {
   "cell_type": "code",
   "execution_count": 9,
   "metadata": {
    "scrolled": false
   },
   "outputs": [
    {
     "name": "stderr",
     "output_type": "stream",
     "text": [
      "D:\\Anaconda\\envs\\ICD\\lib\\site-packages\\scipy\\stats\\stats.py:1713: FutureWarning: Using a non-tuple sequence for multidimensional indexing is deprecated; use `arr[tuple(seq)]` instead of `arr[seq]`. In the future this will be interpreted as an array index, `arr[np.array(seq)]`, which will result either in an error or a different result.\n",
      "  return np.add.reduce(sorted[indexer] * weights, axis=axis) / sumval\n"
     ]
    },
    {
     "data": {
      "image/png": "[encoded data removed]",
      "text/plain": [
       "<Figure size 432x288 with 1 Axes>"
      ]
     },
     "metadata": {
      "needs_background": "light"
     },
     "output_type": "display_data"
    },
    {
     "name": "stdout",
     "output_type": "stream",
     "text": [
      "Model slope: 521.7607437129213\n",
      "Model intercept: -452.16056968129385\n",
      "Model rvalue: 0.8466715251506688\n",
      "Model pvalue: 2.5996612706523036e-08\n"
     ]
    }
   ],
   "source": [
    "# Realizando a regressão sobre os dados\n",
    "sns.regplot(x='HDI-2012', y='score', data=df_merged, n_boot=10000,\n",
    "            line_kws={'color':'magenta', 'lw':4},\n",
    "            scatter_kws={'edgecolor':'k', 's':80, 'alpha':0.8})\n",
    "\n",
    "plt.title('Análise de IDH x Score')\n",
    "plt.xlabel('IDH')\n",
    "plt.ylabel('Score')\n",
    "plt.show()\n",
    "\n",
    "# Recuperando os dados do modelo (slope, intercept, correlação de pearson, pvalue)\n",
    "model = ss.linregress(df_merged['HDI-2012'], df_merged['score'])\n",
    "print('Model slope:', model.slope)\n",
    "print('Model intercept:', model.intercept)\n",
    "print('Model rvalue:', model.rvalue)\n",
    "print('Model pvalue:', model.pvalue)"
   ]
  },
  {
   "cell_type": "markdown",
   "metadata": {},
   "source": [
    "- Percebemos que os nossos dados possuem uma correlação de Pearson igual a $\\approx$ 0.85.\n",
    "- Com isso, temos que nossos dados possuem uma correlação positiva, e com o aumento do IDH do país, explica relativamente bem, um aumento do score."
   ]
  },
  {
   "cell_type": "markdown",
   "metadata": {},
   "source": [
    "## Analisando a correlação para cada DataFrame específico"
   ]
  },
  {
   "cell_type": "markdown",
   "metadata": {},
   "source": [
    "### Função auxiliar para facilitar a análise dos dados"
   ]
  },
  {
   "cell_type": "code",
   "execution_count": 10,
   "metadata": {},
   "outputs": [],
   "source": [
    "def show_regression_result(group):\n",
    "    # Modificando o nome da coluna Country para CountryName\n",
    "    df_HDI.rename(columns={'Country': 'CountryName', '2012': 'HDI-2012'}, inplace=True)\n",
    "\n",
    "    # Realizando um merge entre os dataframes\n",
    "    df_merged = pd.merge(df_HDI, group.reset_index())\n",
    "    \n",
    "    print('Melhor score [País, IDH, score]:', df_merged.iloc[df_merged['score'].idxmax()].tolist())\n",
    "    print('Pior score [País, IDH, score]:', df_merged.iloc[df_merged['score'].idxmin()].tolist())\n",
    "    \n",
    "    # Realizando a regressão sobre os dados\n",
    "    sns.regplot(x='HDI-2012', y='score', data=df_merged, n_boot=10000,\n",
    "                line_kws={'color':'magenta', 'lw':4},\n",
    "                scatter_kws={'edgecolor':'k', 's':80, 'alpha':0.8})\n",
    "\n",
    "    plt.title('Análise de IDH x Score')\n",
    "    plt.xlabel('IDH')\n",
    "    plt.ylabel('Score')\n",
    "    plt.show()\n",
    "\n",
    "    # Recuperando os dados do modelo (slope, intercept, correlação de pearson, pvalue)\n",
    "    model = ss.linregress(df_merged['HDI-2012'], df_merged['score'])\n",
    "    print('Model slope:', model.slope)\n",
    "    print('Model intercept:', model.intercept)\n",
    "    print('Model rvalue:', model.rvalue)\n",
    "    print('Model pvalue:', model.pvalue)"
   ]
  },
  {
   "cell_type": "markdown",
   "metadata": {},
   "source": [
    "### DailyLife"
   ]
  },
  {
   "cell_type": "code",
   "execution_count": 11,
   "metadata": {},
   "outputs": [
    {
     "name": "stdout",
     "output_type": "stream",
     "text": [
      "Melhor score [País, IDH, score]: ['Netherlands', 0.9209999999999999, 17.445]\n",
      "Pior score [País, IDH, score]: ['Croatia', 0.816, -26.450000000000028]\n"
     ]
    },
    {
     "name": "stderr",
     "output_type": "stream",
     "text": [
      "D:\\Anaconda\\envs\\ICD\\lib\\site-packages\\scipy\\stats\\stats.py:1713: FutureWarning: Using a non-tuple sequence for multidimensional indexing is deprecated; use `arr[tuple(seq)]` instead of `arr[seq]`. In the future this will be interpreted as an array index, `arr[np.array(seq)]`, which will result either in an error or a different result.\n",
      "  return np.add.reduce(sorted[indexer] * weights, axis=axis) / sumval\n"
     ]
    },
    {
     "data": {
      "image/png": "[encoded data removed]",
      "text/plain": [
       "<Figure size 432x288 with 1 Axes>"
      ]
     },
     "metadata": {
      "needs_background": "light"
     },
     "output_type": "display_data"
    },
    {
     "name": "stdout",
     "output_type": "stream",
     "text": [
      "Model slope: 302.9383963002465\n",
      "Model intercept: -269.83046654196914\n",
      "Model rvalue: 0.8747502091834355\n",
      "Model pvalue: 2.4318474100523823e-09\n"
     ]
    }
   ],
   "source": [
    "show_regression_result(group_DailyLife)"
   ]
  },
  {
   "cell_type": "markdown",
   "metadata": {},
   "source": [
    "- Percebemos que o país com melhor score para o dados de DailyLife é a Holanda; já o com pior é a Croácia.\n",
    "- O valor da correlação de Pearson igual a $\\approx$ 0.87.\n",
    "- Com isso, temos que nossos dados possuem uma correlação positiva, e com o aumento do IDH do país, explica relativamente bem, um aumento do score para os dados de DailyLife."
   ]
  },
  {
   "cell_type": "markdown",
   "metadata": {},
   "source": [
    "### Discrimination"
   ]
  },
  {
   "cell_type": "code",
   "execution_count": 12,
   "metadata": {},
   "outputs": [
    {
     "name": "stdout",
     "output_type": "stream",
     "text": [
      "Melhor score [País, IDH, score]: ['Malta', 0.8490000000000001, -0.9]\n",
      "Pior score [País, IDH, score]: ['United Kingdom', 0.898, -3.7400000000000007]\n"
     ]
    },
    {
     "name": "stderr",
     "output_type": "stream",
     "text": [
      "D:\\Anaconda\\envs\\ICD\\lib\\site-packages\\scipy\\stats\\stats.py:1713: FutureWarning: Using a non-tuple sequence for multidimensional indexing is deprecated; use `arr[tuple(seq)]` instead of `arr[seq]`. In the future this will be interpreted as an array index, `arr[np.array(seq)]`, which will result either in an error or a different result.\n",
      "  return np.add.reduce(sorted[indexer] * weights, axis=axis) / sumval\n"
     ]
    },
    {
     "data": {
      "image/png": "[encoded data removed]",
      "text/plain": [
       "<Figure size 432x288 with 1 Axes>"
      ]
     },
     "metadata": {
      "needs_background": "light"
     },
     "output_type": "display_data"
    },
    {
     "name": "stdout",
     "output_type": "stream",
     "text": [
      "Model slope: -2.9084626892423473\n",
      "Model intercept: 0.11674851862564584\n",
      "Model rvalue: -0.19840616441617864\n",
      "Model pvalue: 0.3211615059012022\n"
     ]
    }
   ],
   "source": [
    "show_regression_result(group_Discrimination)"
   ]
  },
  {
   "cell_type": "markdown",
   "metadata": {},
   "source": [
    "- Percebemos que o país com melhor score para o dados de Discrimination é Malta; já o com pior é o Reino Unido.\n",
    "- O valor da correlação de Pearson igual a $\\approx$ 0.12.\n",
    "- Com isso, temos que nossos dados possuem uma correlação positiva, porém, muito baixa. Com isso, um aumento do IDH do país, não consegue explicar, um aumento do score para os dados de Discrimination."
   ]
  },
  {
   "cell_type": "markdown",
   "metadata": {},
   "source": [
    "### RightsAwareness"
   ]
  },
  {
   "cell_type": "code",
   "execution_count": 13,
   "metadata": {},
   "outputs": [
    {
     "name": "stdout",
     "output_type": "stream",
     "text": [
      "Melhor score [País, IDH, score]: ['Sweden', 0.9079999999999999, 33.980000000000004]\n",
      "Pior score [País, IDH, score]: ['Greece', 0.8540000000000001, -2.9399999999999995]\n"
     ]
    },
    {
     "name": "stderr",
     "output_type": "stream",
     "text": [
      "D:\\Anaconda\\envs\\ICD\\lib\\site-packages\\scipy\\stats\\stats.py:1713: FutureWarning: Using a non-tuple sequence for multidimensional indexing is deprecated; use `arr[tuple(seq)]` instead of `arr[seq]`. In the future this will be interpreted as an array index, `arr[np.array(seq)]`, which will result either in an error or a different result.\n",
      "  return np.add.reduce(sorted[indexer] * weights, axis=axis) / sumval\n"
     ]
    },
    {
     "data": {
      "image/png": "[encoded data removed]",
      "text/plain": [
       "<Figure size 432x288 with 1 Axes>"
      ]
     },
     "metadata": {
      "needs_background": "light"
     },
     "output_type": "display_data"
    },
    {
     "name": "stdout",
     "output_type": "stream",
     "text": [
      "Model slope: 161.23591607408719\n",
      "Model intercept: -122.82214682598119\n",
      "Model rvalue: 0.6364876791067295\n",
      "Model pvalue: 0.00035813000843420875\n"
     ]
    }
   ],
   "source": [
    "show_regression_result(group_RightsAwareness)"
   ]
  },
  {
   "cell_type": "markdown",
   "metadata": {},
   "source": [
    "- Percebemos que o país com melhor score para o dados de RightsAwareness é a Suécia; já o com pior é a Grécia.\n",
    "- O valor da correlação de Pearson igual a $\\approx$ 0.64.\n",
    "- Com isso, temos que nossos dados possuem uma correlação positiva, porém, não tão alta. Com isso, um aumento do IDH do país, consegue explicar de forma razoável, um aumento do score para os dados de RightsAwareness."
   ]
  },
  {
   "cell_type": "markdown",
   "metadata": {},
   "source": [
    "### ViolenceAndHarassment"
   ]
  },
  {
   "cell_type": "code",
   "execution_count": 14,
   "metadata": {
    "scrolled": false
   },
   "outputs": [
    {
     "name": "stdout",
     "output_type": "stream",
     "text": [
      "Melhor score [País, IDH, score]: ['Luxembourg', 0.892, 1.7787000000000002]\n",
      "Pior score [País, IDH, score]: ['Croatia', 0.816, -13.6898]\n"
     ]
    },
    {
     "name": "stderr",
     "output_type": "stream",
     "text": [
      "D:\\Anaconda\\envs\\ICD\\lib\\site-packages\\scipy\\stats\\stats.py:1713: FutureWarning: Using a non-tuple sequence for multidimensional indexing is deprecated; use `arr[tuple(seq)]` instead of `arr[seq]`. In the future this will be interpreted as an array index, `arr[np.array(seq)]`, which will result either in an error or a different result.\n",
      "  return np.add.reduce(sorted[indexer] * weights, axis=axis) / sumval\n"
     ]
    },
    {
     "data": {
      "image/png": "[encoded data removed]",
      "text/plain": [
       "<Figure size 432x288 with 1 Axes>"
      ]
     },
     "metadata": {
      "needs_background": "light"
     },
     "output_type": "display_data"
    },
    {
     "name": "stdout",
     "output_type": "stream",
     "text": [
      "Model slope: 60.49489402782982\n",
      "Model intercept: -59.62470483196897\n",
      "Model rvalue: 0.6337424793827473\n",
      "Model pvalue: 0.0003866934384392839\n"
     ]
    }
   ],
   "source": [
    "show_regression_result(group_ViolenceAndHarassment)"
   ]
  },
  {
   "cell_type": "markdown",
   "metadata": {},
   "source": [
    "- Percebemos que o país com melhor score para o dados de ViolenceAndHarassment é Luxemburgo; já o com pior é a Croácia.\n",
    "- O valor da correlação de Pearson igual a $\\approx$ 0.63.\n",
    "- Com isso, temos que nossos dados possuem uma correlação positiva, porém, não tão alta. Com isso, um aumento do IDH do país, consegue explicar de forma razoável, um aumento do score para os dados de ViolenceAndHarassment."
   ]
  }
 ],
 "metadata": {
  "kernelspec": {
   "display_name": "Python 3",
   "language": "python",
   "name": "python3"
  },
  "language_info": {
   "codemirror_mode": {
    "name": "ipython",
    "version": 3
   },
   "file_extension": ".py",
   "mimetype": "text/x-python",
   "name": "python",
   "nbconvert_exporter": "python",
   "pygments_lexer": "ipython3",
   "version": "3.5.6"
  }
 },
 "nbformat": 4,
 "nbformat_minor": 2
}
